{
 "cells": [
  {
   "cell_type": "code",
   "execution_count": 73,
   "id": "b1ccd985",
   "metadata": {},
   "outputs": [
    {
     "name": "stderr",
     "output_type": "stream",
     "text": [
      "[nltk_data] Downloading package stopwords to\n",
      "[nltk_data]     C:\\Users\\ahmed\\AppData\\Roaming\\nltk_data...\n",
      "[nltk_data]   Package stopwords is already up-to-date!\n",
      "[nltk_data] Downloading package wordnet to\n",
      "[nltk_data]     C:\\Users\\ahmed\\AppData\\Roaming\\nltk_data...\n",
      "[nltk_data]   Package wordnet is already up-to-date!\n"
     ]
    },
    {
     "data": {
      "text/plain": [
       "True"
      ]
     },
     "execution_count": 73,
     "metadata": {},
     "output_type": "execute_result"
    }
   ],
   "source": [
    "import pandas as pd\n",
    "import numpy as np\n",
    "import seaborn as sns\n",
    "import matplotlib.pyplot as plt\n",
    "import re\n",
    "import string\n",
    "from sklearn.model_selection import train_test_split\n",
    "from sklearn.feature_extraction.text import TfidfVectorizer\n",
    "from sklearn.linear_model import LogisticRegression\n",
    "from sklearn.metrics import classification_report, accuracy_score\n",
    "from nltk.corpus import stopwords\n",
    "from nltk.stem import WordNetLemmatizer\n",
    "import nltk\n",
    "\n",
    "# Download NLTK resources\n",
    "nltk.download('stopwords')\n",
    "nltk.download('wordnet')\n"
   ]
  },
  {
   "cell_type": "code",
   "execution_count": 74,
   "id": "ff1e8b9d",
   "metadata": {},
   "outputs": [
    {
     "name": "stdout",
     "output_type": "stream",
     "text": [
      "Index(['text', 'category', 'cleaned_text'], dtype='object')\n"
     ]
    }
   ],
   "source": [
    "print(df.columns)"
   ]
  },
  {
   "cell_type": "code",
   "execution_count": 75,
   "id": "48fa22bc",
   "metadata": {},
   "outputs": [
    {
     "data": {
      "text/html": [
       "<div>\n",
       "<style scoped>\n",
       "    .dataframe tbody tr th:only-of-type {\n",
       "        vertical-align: middle;\n",
       "    }\n",
       "\n",
       "    .dataframe tbody tr th {\n",
       "        vertical-align: top;\n",
       "    }\n",
       "\n",
       "    .dataframe thead th {\n",
       "        text-align: right;\n",
       "    }\n",
       "</style>\n",
       "<table border=\"1\" class=\"dataframe\">\n",
       "  <thead>\n",
       "    <tr style=\"text-align: right;\">\n",
       "      <th></th>\n",
       "      <th>text</th>\n",
       "      <th>category</th>\n",
       "    </tr>\n",
       "  </thead>\n",
       "  <tbody>\n",
       "    <tr>\n",
       "      <th>0</th>\n",
       "      <td>when modi promised “minimum government maximum...</td>\n",
       "      <td>-1.0</td>\n",
       "    </tr>\n",
       "    <tr>\n",
       "      <th>1</th>\n",
       "      <td>talk all the nonsense and continue all the dra...</td>\n",
       "      <td>0.0</td>\n",
       "    </tr>\n",
       "    <tr>\n",
       "      <th>2</th>\n",
       "      <td>what did just say vote for modi  welcome bjp t...</td>\n",
       "      <td>1.0</td>\n",
       "    </tr>\n",
       "    <tr>\n",
       "      <th>3</th>\n",
       "      <td>asking his supporters prefix chowkidar their n...</td>\n",
       "      <td>1.0</td>\n",
       "    </tr>\n",
       "    <tr>\n",
       "      <th>4</th>\n",
       "      <td>answer who among these the most powerful world...</td>\n",
       "      <td>1.0</td>\n",
       "    </tr>\n",
       "  </tbody>\n",
       "</table>\n",
       "</div>"
      ],
      "text/plain": [
       "                                                text  category\n",
       "0  when modi promised “minimum government maximum...      -1.0\n",
       "1  talk all the nonsense and continue all the dra...       0.0\n",
       "2  what did just say vote for modi  welcome bjp t...       1.0\n",
       "3  asking his supporters prefix chowkidar their n...       1.0\n",
       "4  answer who among these the most powerful world...       1.0"
      ]
     },
     "execution_count": 75,
     "metadata": {},
     "output_type": "execute_result"
    }
   ],
   "source": [
    "# Load Twitter and Reddit datasets\n",
    "twitter_df = pd.read_csv(r\"D:\\task 2 data\\Twitter_Data.csv\")\n",
    "reddit_df = pd.read_csv(r\"D:\\task 2 data\\Reddit_Data.csv\")\n",
    "\n",
    "# Rename text columns to unify the structure\n",
    "twitter_df = twitter_df.rename(columns={'clean_text': 'text'})\n",
    "reddit_df = reddit_df.rename(columns={'clean_comment': 'text'})\n",
    "\n",
    "# Merge both datasets\n",
    "df = pd.concat([twitter_df, reddit_df], ignore_index=True)\n",
    "\n",
    "# Preview data\n",
    "df.head()\n",
    "\n",
    "\n"
   ]
  },
  {
   "cell_type": "code",
   "execution_count": 76,
   "id": "393c0f16",
   "metadata": {},
   "outputs": [
    {
     "name": "stdout",
     "output_type": "stream",
     "text": [
      "<class 'pandas.core.frame.DataFrame'>\n",
      "RangeIndex: 200229 entries, 0 to 200228\n",
      "Data columns (total 2 columns):\n",
      " #   Column    Non-Null Count   Dtype  \n",
      "---  ------    --------------   -----  \n",
      " 0   text      200125 non-null  object \n",
      " 1   category  200222 non-null  float64\n",
      "dtypes: float64(1), object(1)\n",
      "memory usage: 3.1+ MB\n",
      "None\n",
      "category\n",
      " 1.0    88080\n",
      " 0.0    68355\n",
      "-1.0    43787\n",
      "Name: count, dtype: int64\n"
     ]
    },
    {
     "data": {
      "image/png": "[encoded data removed]",
      "text/plain": [
       "<Figure size 640x480 with 1 Axes>"
      ]
     },
     "metadata": {},
     "output_type": "display_data"
    }
   ],
   "source": [
    "# Info about the dataset\n",
    "print(df.info())\n",
    "\n",
    "# Count each sentiment category\n",
    "print(df['category'].value_counts())\n",
    "\n",
    "# Visualize sentiment distribution\n",
    "sns.countplot(data=df, x='category')\n",
    "plt.title(\"Sentiment Distribution\")\n",
    "plt.show()\n"
   ]
  },
  {
   "cell_type": "code",
   "execution_count": 77,
   "id": "58b75f56",
   "metadata": {},
   "outputs": [],
   "source": [
    "# استبدال القيم الفارغة في عمود text\n",
    "df['text'] = df['text'].fillna(\"\")\n",
    "\n",
    "# تعريف دالة التنظيف المعدلة\n",
    "def clean_text(text):\n",
    "    if not isinstance(text, str):\n",
    "        return \"\"\n",
    "    text = text.lower()\n",
    "    text = re.sub(r\"http\\S+|www\\S+|https\\S+\", '', text)\n",
    "    text = re.sub(r'@\\w+|#', '', text)\n",
    "    text = re.sub(r'[^\\w\\s]', '', text)\n",
    "    text = re.sub(r'\\d+', '', text)\n",
    "    text = re.sub(r'\\s+', ' ', text).strip()\n",
    "    tokens = [word for word in text.split() if word not in stop_words]\n",
    "    return ' '.join(tokens)\n",
    "\n",
    "# تطبيق التنظيف\n",
    "df['cleaned_text'] = df['text'].apply(clean_text)\n"
   ]
  },
  {
   "cell_type": "code",
   "execution_count": 78,
   "id": "f70fa05e",
   "metadata": {},
   "outputs": [],
   "source": [
    "# Convert text to numerical features\n",
    "tfidf = TfidfVectorizer(max_features=5000)\n",
    "X = tfidf.fit_transform(df['cleaned_text']).toarray()\n",
    "\n",
    "# Target variable\n",
    "y = df['category']\n"
   ]
  },
  {
   "cell_type": "code",
   "execution_count": 79,
   "id": "72e41bb9",
   "metadata": {},
   "outputs": [],
   "source": [
    "# Split into training and test sets\n",
    "X_train, X_test, y_train, y_test = train_test_split(X, y, test_size=0.2, random_state=42)\n"
   ]
  },
  {
   "cell_type": "code",
   "execution_count": 80,
   "id": "9a0e5bda",
   "metadata": {},
   "outputs": [],
   "source": [
    "# ✅ شيل أي صف فيه قيمة مفقودة في عمود التصنيف\n",
    "df = df.dropna(subset=['category'])\n",
    "\n",
    "# ✅ كمل تنظيف النصوص وملء الخانات الفاضية\n",
    "df['text'] = df['text'].fillna('')\n",
    "\n",
    "# ✅ بعد التنظيف، تقدر تكمل بالـ TF-IDF وغيره عادي\n"
   ]
  },
  {
   "cell_type": "code",
   "execution_count": 81,
   "id": "c7dcd2ef",
   "metadata": {},
   "outputs": [
    {
     "name": "stdout",
     "output_type": "stream",
     "text": [
      "Accuracy: 0.8953926832313647\n",
      "Classification Report:\n",
      "               precision    recall  f1-score   support\n",
      "\n",
      "        -1.0       0.88      0.77      0.82      8785\n",
      "         0.0       0.87      0.97      0.92     13651\n",
      "         1.0       0.92      0.90      0.91     17609\n",
      "\n",
      "    accuracy                           0.90     40045\n",
      "   macro avg       0.89      0.88      0.88     40045\n",
      "weighted avg       0.90      0.90      0.89     40045\n",
      "\n"
     ]
    }
   ],
   "source": [
    "# ✅ حذف الصفوف اللي فيها نواقص في النص أو الليبل\n",
    "df = df.dropna(subset=[\"cleaned_text\", \"category\"])\n",
    "\n",
    "# ✅ إعادة ضبط الفهارس بعد الحذف\n",
    "df = df.reset_index(drop=True)\n",
    "\n",
    "# ✅ تحديد الـ Features والـ Labels\n",
    "X = df[\"cleaned_text\"]\n",
    "y = df[\"category\"]\n",
    "\n",
    "# ✅ تقسيم البيانات لتدريب واختبار\n",
    "from sklearn.model_selection import train_test_split\n",
    "X_train_text, X_test_text, y_train, y_test = train_test_split(X, y, test_size=0.2, random_state=42)\n",
    "\n",
    "# ✅ تحويل النصوص إلى أرقام باستخدام TF-IDF\n",
    "from sklearn.feature_extraction.text import TfidfVectorizer\n",
    "vectorizer = TfidfVectorizer()\n",
    "X_train = vectorizer.fit_transform(X_train_text)\n",
    "X_test = vectorizer.transform(X_test_text)\n",
    "\n",
    "# ✅ تدريب الموديل (ده هو الجزء اللي كان فيه المشكلة)\n",
    "from sklearn.linear_model import LogisticRegression\n",
    "from sklearn.metrics import accuracy_score, classification_report\n",
    "\n",
    "model = LogisticRegression(max_iter=200)\n",
    "model.fit(X_train, y_train)  # ← دلوقتي تمام، مفيش فرق في عدد العينات\n",
    "\n",
    "# ✅ التنبؤ والتقييم\n",
    "y_pred = model.predict(X_test)\n",
    "print(\"Accuracy:\", accuracy_score(y_test, y_pred))\n",
    "print(\"Classification Report:\\n\", classification_report(y_test, y_pred))\n"
   ]
  },
  {
   "cell_type": "code",
   "execution_count": 82,
   "id": "497dcac7",
   "metadata": {},
   "outputs": [
    {
     "data": {
      "text/plain": [
       "np.float64(1.0)"
      ]
     },
     "execution_count": 82,
     "metadata": {},
     "output_type": "execute_result"
    }
   ],
   "source": [
    "# ✅ استخدم نفس vectorizer اللي فوق (vectorizer مش tfidf)\n",
    "\n",
    "def predict_sentiment(text):\n",
    "    cleaned = clean_text(text)\n",
    "    vec = vectorizer.transform([cleaned])  # ← استخدم نفس vectorizer اللي دربت بيه\n",
    "    return model.predict(vec)[0]\n",
    "\n",
    "# ✅ جرب\n",
    "predict_sentiment(\"I really enjoyed this product, it's amazing!\")\n"
   ]
  },
  {
   "cell_type": "code",
   "execution_count": 84,
   "id": "0eaed416",
   "metadata": {},
   "outputs": [
    {
     "name": "stdout",
     "output_type": "stream",
     "text": [
      "Logistic Regression: Mean Accuracy = 0.8914, Std Dev = 0.0024\n",
      "Naive Bayes: Mean Accuracy = 0.7195, Std Dev = 0.0017\n",
      "Linear SVM: Mean Accuracy = 0.9026, Std Dev = 0.0019\n"
     ]
    }
   ],
   "source": [
    "from sklearn.model_selection import train_test_split, cross_val_score\n",
    "from sklearn.feature_extraction.text import TfidfVectorizer\n",
    "from sklearn.linear_model import LogisticRegression\n",
    "from sklearn.naive_bayes import MultinomialNB\n",
    "from sklearn.svm import LinearSVC\n",
    "\n",
    "# ✅ 1. استخدم الداتا الأصلية\n",
    "X = df['cleaned_text']\n",
    "y = df['category']\n",
    "\n",
    "# ✅ 2. قسم الداتا\n",
    "X_train_texts, X_test_texts, y_train, y_test = train_test_split(X, y, test_size=0.2, random_state=42)\n",
    "\n",
    "# ✅ 3. TF-IDF vectorization\n",
    "vectorizer = TfidfVectorizer(max_features=5000)\n",
    "X_train_tfidf = vectorizer.fit_transform(X_train_texts)\n",
    "\n",
    "# ✅ 4. Define models\n",
    "models = {\n",
    "    \"Logistic Regression\": LogisticRegression(max_iter=200),\n",
    "    \"Naive Bayes\": MultinomialNB(),\n",
    "    \"Linear SVM\": LinearSVC()\n",
    "}\n",
    "\n",
    "# ✅ 5. Evaluate using cross-validation\n",
    "results = {}\n",
    "for name, model in models.items():\n",
    "    scores = cross_val_score(model, X_train_tfidf, y_train, cv=5, scoring='accuracy')\n",
    "    results[name] = {\n",
    "        'mean accuracy': scores.mean(),\n",
    "        'std dev': scores.std()\n",
    "    }\n",
    "\n",
    "# ✅ 6. Print results\n",
    "for name, metrics in results.items():\n",
    "    print(f\"{name}: Mean Accuracy = {metrics['mean accuracy']:.4f}, Std Dev = {metrics['std dev']:.4f}\")\n"
   ]
  },
  {
   "cell_type": "code",
   "execution_count": 85,
   "id": "dc97ea83",
   "metadata": {},
   "outputs": [
    {
     "name": "stdout",
     "output_type": "stream",
     "text": [
      "Best Logistic Regression Parameters: {'C': 1, 'penalty': 'l1', 'solver': 'liblinear'}\n",
      "Best Cross-Validated Accuracy: 0.9055232823663358\n"
     ]
    }
   ],
   "source": [
    "# 🔧 Define parameter grid\n",
    "param_grid = {\n",
    "    'C': [0.01, 0.1, 1, 10],\n",
    "    'penalty': ['l1', 'l2'],\n",
    "    'solver': ['liblinear']\n",
    "}\n",
    "\n",
    "# 🚀 Run Grid Search\n",
    "grid = GridSearchCV(LogisticRegression(max_iter=1000), param_grid, cv=5, scoring='accuracy')\n",
    "grid.fit(X_train_tfidf, y_train)\n",
    "\n",
    "# ✅ Best Model Summary\n",
    "print(\"Best Logistic Regression Parameters:\", grid.best_params_)\n",
    "print(\"Best Cross-Validated Accuracy:\", grid.best_score_)\n",
    "\n",
    "# Replace main model with best one (optional)\n",
    "best_model = grid.best_estimator_\n"
   ]
  }
 ],
 "metadata": {
  "kernelspec": {
   "display_name": "Python 3",
   "language": "python",
   "name": "python3"
  },
  "language_info": {
   "codemirror_mode": {
    "name": "ipython",
    "version": 3
   },
   "file_extension": ".py",
   "mimetype": "text/x-python",
   "name": "python",
   "nbconvert_exporter": "python",
   "pygments_lexer": "ipython3",
   "version": "3.11.9"
  }
 },
 "nbformat": 4,
 "nbformat_minor": 5
}
